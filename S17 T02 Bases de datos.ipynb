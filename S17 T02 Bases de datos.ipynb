{
 "cells": [
  {
   "cell_type": "markdown",
   "id": "a3dc4d1c",
   "metadata": {},
   "source": [
    "# S17 T02 Base de dades"
   ]
  },
  {
   "cell_type": "code",
   "execution_count": 1,
   "id": "8d8ceaca",
   "metadata": {},
   "outputs": [],
   "source": [
    "import pandas as pd\n",
    "import numpy as np\n",
    "import matplotlib.pyplot as plt\n",
    "import seaborn as sns\n",
    "\n",
    "import mysql.connector\n",
    "from random import seed\n",
    "from random import randint\n",
    "\n",
    "import matplotlib as mpl\n"
   ]
  },
  {
   "cell_type": "markdown",
   "id": "10dc9899",
   "metadata": {},
   "source": [
    "## Exercici 1\n",
    "Crea una base de dades relacionals senzilla utilitzant MySQL(https://www.mysql.com/) i connecta-la a Python\n"
   ]
  },
  {
   "cell_type": "code",
   "execution_count": 2,
   "id": "8bd7ab4d",
   "metadata": {},
   "outputs": [
    {
     "name": "stdout",
     "output_type": "stream",
     "text": [
      "<mysql.connector.connection_cext.CMySQLConnection object at 0x000002443CB2EB20>\n"
     ]
    }
   ],
   "source": [
    "# Connect to MySQL\n",
    "mydb = mysql.connector.connect(\n",
    "  host=\"localhost\",\n",
    "  user=\"cecilia\",\n",
    "  password=\"cecilia\"\n",
    ")\n",
    "\n",
    "print(mydb)\n"
   ]
  },
  {
   "cell_type": "code",
   "execution_count": 3,
   "id": "23265036",
   "metadata": {},
   "outputs": [
    {
     "name": "stdout",
     "output_type": "stream",
     "text": [
      "Succesfull creation of database\n"
     ]
    }
   ],
   "source": [
    "# Create a database\n",
    "mycursor = mydb.cursor()\n",
    "\n",
    "mycursor.execute(\"CREATE DATABASE IF NOT EXISTS schoolGrades\")\n",
    "\n",
    "mycursor.execute(\"SHOW DATABASES\")\n",
    "\n",
    "for x in mycursor:\n",
    "  if x[0] == 'schoolgrades':\n",
    "    print('Succesfull creation of database')\n",
    "\n"
   ]
  },
  {
   "cell_type": "code",
   "execution_count": 4,
   "id": "4d985fc6",
   "metadata": {},
   "outputs": [],
   "source": [
    "# Connect to the new database\n",
    "mydb = mysql.connector.connect(\n",
    "  host=\"localhost\",\n",
    "  user=\"cecilia\",\n",
    "  password=\"cecilia\",\n",
    "  database=\"schoolgrades\"\n",
    ")"
   ]
  },
  {
   "cell_type": "code",
   "execution_count": 5,
   "id": "62000c90",
   "metadata": {},
   "outputs": [],
   "source": [
    "mycursor = mydb.cursor()\n",
    "\n",
    "# Create tables \n",
    "\n",
    "mycursor.execute(\"CREATE TABLE IF NOT EXISTS students (studentID INT NOT NULL AUTO_INCREMENT, name CHAR(55), surname CHAR(55), PRIMARY KEY (studentID))\")\n",
    "\n",
    "mycursor.execute(\"CREATE TABLE IF NOT EXISTS subjects (subjectID INT NOT NULL AUTO_INCREMENT, subjName VARCHAR(255), PRIMARY KEY (subjectID))\")\n",
    "\n",
    "                 \n",
    "mycursor.execute(\"CREATE TABLE IF NOT EXISTS grades (studentID INT, subjectID INT, grade INT, FOREIGN KEY (studentID) REFERENCES students(studentID), FOREIGN KEY (subjectID) REFERENCES subjects(subjectID))\")\n",
    "    "
   ]
  },
  {
   "cell_type": "code",
   "execution_count": 6,
   "id": "f55da3ce",
   "metadata": {},
   "outputs": [],
   "source": [
    "# See what´s in the student´s table\n",
    "mycursor.execute(\"SELECT * FROM students\")\n",
    "myresult = mycursor.fetchall()\n",
    "\n",
    "for x in myresult:\n",
    "  print(x)"
   ]
  },
  {
   "cell_type": "code",
   "execution_count": 7,
   "id": "df5ae9d7",
   "metadata": {},
   "outputs": [
    {
     "name": "stdout",
     "output_type": "stream",
     "text": [
      "1 record inserted.\n"
     ]
    }
   ],
   "source": [
    "# Insert data into the table\n",
    "sql = \"INSERT INTO students (name, surname) VALUES (%s, %s)\"\n",
    "datos = [('Jorge', 'Perez'), ('Maria', 'Perez'), ('Estela', 'Fernandez'), ('Juan', 'Rodriguez')]\n",
    "#datos = [('Maria', 'Perez'), ('Estela', 'Fernandez')]\n",
    "\n",
    "\n",
    "for persona in datos:\n",
    "    mycursor.execute(sql, persona)\n",
    "\n",
    "mydb.commit()\n",
    "\n",
    "print(mycursor.rowcount, \"record inserted.\")"
   ]
  },
  {
   "cell_type": "code",
   "execution_count": 8,
   "id": "1c0715eb",
   "metadata": {},
   "outputs": [
    {
     "name": "stdout",
     "output_type": "stream",
     "text": [
      "1 record inserted.\n"
     ]
    }
   ],
   "source": [
    "# Insert data into the table\n",
    "sql = \"INSERT INTO subjects (subjName) VALUES (%s)\"\n",
    "datos = [['math'], ['history'], ['art'], ['english'], ['geography'], ['literature']]\n",
    "#datos = [['math'], ['history']]\n",
    "\n",
    "\n",
    "for subj in datos:\n",
    "    mycursor.execute(sql, subj)\n",
    "\n",
    "mydb.commit()\n",
    "\n",
    "print(mycursor.rowcount, \"record inserted.\")"
   ]
  },
  {
   "cell_type": "code",
   "execution_count": 9,
   "id": "d052cb89",
   "metadata": {},
   "outputs": [
    {
     "name": "stdout",
     "output_type": "stream",
     "text": [
      "(1, 'Jorge', 'Perez')\n",
      "(2, 'Maria', 'Perez')\n",
      "(3, 'Estela', 'Fernandez')\n",
      "(4, 'Juan', 'Rodriguez')\n",
      "(1, 'math')\n",
      "(2, 'history')\n",
      "(3, 'art')\n",
      "(4, 'english')\n",
      "(5, 'geography')\n",
      "(6, 'literature')\n"
     ]
    }
   ],
   "source": [
    "# Display the data from the tables\n",
    "mycursor.execute(\"SELECT * FROM students\")\n",
    "estudiantes = mycursor.fetchall()\n",
    "\n",
    "for x in estudiantes:\n",
    "  print(x)\n",
    "\n",
    "mycursor.execute(\"SELECT * FROM subjects\")\n",
    "temas = mycursor.fetchall()\n",
    "\n",
    "for x in temas:\n",
    "  print(x)\n",
    "\n"
   ]
  },
  {
   "cell_type": "code",
   "execution_count": 10,
   "id": "fa45069b",
   "metadata": {},
   "outputs": [
    {
     "name": "stdout",
     "output_type": "stream",
     "text": [
      "1 record inserted.\n"
     ]
    }
   ],
   "source": [
    "# Insert data into the last table\n",
    "sql = \"INSERT INTO grades (studentID, subjectID, grade) VALUES (%s, %s, %s)\"\n",
    "seed(1)\n",
    "\n",
    "for student in estudiantes:\n",
    "    for subject in temas:\n",
    "        data = ((student[0], subject[0], randint(4, 10)))\n",
    "        mycursor.execute(sql, data)\n",
    "\n",
    "mydb.commit()\n",
    "\n",
    "print(mycursor.rowcount, \"record inserted.\")"
   ]
  },
  {
   "cell_type": "markdown",
   "id": "e09520af",
   "metadata": {},
   "source": [
    "## Exercici 2\n",
    "Mostra que pots carregar algunes consultes senzilles a un Pandas Dataframe.\n"
   ]
  },
  {
   "cell_type": "code",
   "execution_count": 11,
   "id": "28c5d2a9",
   "metadata": {},
   "outputs": [
    {
     "name": "stdout",
     "output_type": "stream",
     "text": [
      "['studentID', 'name', 'surname']\n"
     ]
    }
   ],
   "source": [
    "# Obtain the column names from students\n",
    "mycursor.execute(\"SHOW COLUMNS FROM students\")\n",
    "cols1= mycursor.fetchall()\n",
    "\n",
    "cols = []\n",
    "for x in cols1:\n",
    "    cols.append(x[0])\n",
    "    \n",
    "print(cols)"
   ]
  },
  {
   "cell_type": "code",
   "execution_count": 12,
   "id": "bf456321",
   "metadata": {},
   "outputs": [
    {
     "name": "stdout",
     "output_type": "stream",
     "text": [
      "   studentID    name    surname\n",
      "0          1   Jorge      Perez\n",
      "1          2   Maria      Perez\n",
      "2          3  Estela  Fernandez\n",
      "3          4    Juan  Rodriguez\n"
     ]
    }
   ],
   "source": [
    "df_estudiantes = pd.DataFrame(data=estudiantes, columns=cols )\n",
    "print(df_estudiantes)"
   ]
  },
  {
   "cell_type": "code",
   "execution_count": 13,
   "id": "6f1d76e2",
   "metadata": {},
   "outputs": [
    {
     "name": "stdout",
     "output_type": "stream",
     "text": [
      "(1, 'Jorge', 'Perez', 'math', 5)\n",
      "(1, 'Jorge', 'Perez', 'history', 8)\n",
      "(1, 'Jorge', 'Perez', 'art', 10)\n",
      "(1, 'Jorge', 'Perez', 'english', 10)\n",
      "(1, 'Jorge', 'Perez', 'geography', 10)\n",
      "(1, 'Jorge', 'Perez', 'literature', 4)\n",
      "(2, 'Maria', 'Perez', 'math', 6)\n",
      "(2, 'Maria', 'Perez', 'history', 4)\n",
      "(2, 'Maria', 'Perez', 'art', 7)\n",
      "(2, 'Maria', 'Perez', 'english', 10)\n",
      "(2, 'Maria', 'Perez', 'geography', 7)\n",
      "(2, 'Maria', 'Perez', 'literature', 7)\n",
      "(3, 'Estela', 'Fernandez', 'math', 9)\n",
      "(3, 'Estela', 'Fernandez', 'history', 7)\n",
      "(3, 'Estela', 'Fernandez', 'art', 10)\n",
      "(3, 'Estela', 'Fernandez', 'english', 5)\n",
      "(3, 'Estela', 'Fernandez', 'geography', 4)\n",
      "(3, 'Estela', 'Fernandez', 'literature', 7)\n",
      "(4, 'Juan', 'Rodriguez', 'math', 4)\n",
      "(4, 'Juan', 'Rodriguez', 'history', 10)\n",
      "(4, 'Juan', 'Rodriguez', 'art', 7)\n",
      "(4, 'Juan', 'Rodriguez', 'english', 7)\n",
      "(4, 'Juan', 'Rodriguez', 'geography', 8)\n",
      "(4, 'Juan', 'Rodriguez', 'literature', 10)\n"
     ]
    }
   ],
   "source": [
    "# Obtain every student with the grades\n",
    "mycursor.execute(\"SELECT students.studentID, students.name, students.surname, subjects.subjName, grades.grade FROM grades, students, subjects WHERE students.studentID = grades.studentID and subjects.subjectID = grades.subjectID\")\n",
    "notas= mycursor.fetchall()\n",
    "\n",
    "for x in notas:\n",
    "  print(x)"
   ]
  },
  {
   "cell_type": "code",
   "execution_count": 14,
   "id": "19f57784",
   "metadata": {},
   "outputs": [
    {
     "name": "stdout",
     "output_type": "stream",
     "text": [
      "    stID    name    surname     subject  grade\n",
      "0      1   Jorge      Perez        math      5\n",
      "1      1   Jorge      Perez     history      8\n",
      "2      1   Jorge      Perez         art     10\n",
      "3      1   Jorge      Perez     english     10\n",
      "4      1   Jorge      Perez   geography     10\n",
      "5      1   Jorge      Perez  literature      4\n",
      "6      2   Maria      Perez        math      6\n",
      "7      2   Maria      Perez     history      4\n",
      "8      2   Maria      Perez         art      7\n",
      "9      2   Maria      Perez     english     10\n",
      "10     2   Maria      Perez   geography      7\n",
      "11     2   Maria      Perez  literature      7\n",
      "12     3  Estela  Fernandez        math      9\n",
      "13     3  Estela  Fernandez     history      7\n",
      "14     3  Estela  Fernandez         art     10\n",
      "15     3  Estela  Fernandez     english      5\n",
      "16     3  Estela  Fernandez   geography      4\n",
      "17     3  Estela  Fernandez  literature      7\n",
      "18     4    Juan  Rodriguez        math      4\n",
      "19     4    Juan  Rodriguez     history     10\n",
      "20     4    Juan  Rodriguez         art      7\n",
      "21     4    Juan  Rodriguez     english      7\n",
      "22     4    Juan  Rodriguez   geography      8\n",
      "23     4    Juan  Rodriguez  literature     10\n"
     ]
    }
   ],
   "source": [
    "df = pd.DataFrame(data= notas, columns=('stID', 'name', 'surname', 'subject', 'grade'))\n",
    "print(df)"
   ]
  },
  {
   "cell_type": "code",
   "execution_count": 15,
   "id": "b04885fd",
   "metadata": {},
   "outputs": [],
   "source": [
    "#mycursor.execute(\"DROP TABLE grades\") \n",
    "#mycursor.execute(\"DROP TABLE students\") \n",
    "#mycursor.execute(\"DROP TABLE subjects\") \n",
    "mycursor.execute(\"DROP DATABASE schoolgrades\")"
   ]
  },
  {
   "cell_type": "markdown",
   "id": "c6980f47",
   "metadata": {},
   "source": [
    "## Exercici 3\n",
    "Genera algun gràfic que resumeixi les dades. "
   ]
  },
  {
   "cell_type": "code",
   "execution_count": 36,
   "id": "417478b1",
   "metadata": {
    "scrolled": true
   },
   "outputs": [
    {
     "data": {
      "image/png": "[encoded data removed]",
      "text/plain": [
       "<Figure size 504x360 with 1 Axes>"
      ]
     },
     "metadata": {},
     "output_type": "display_data"
    }
   ],
   "source": [
    "# Make a boxplot\n",
    "plt.figure(figsize =(7,5))\n",
    "sns.boxplot(x=df[\"subject\"], y=df[\"grade\"])\n",
    "plt.title('Grades per subject', fontsize=20, color='#6146C6', alpha=0.8)\n",
    "plt.xlabel(\"School subject\")\n",
    "plt.ylabel(\"Student grade\")\n",
    "plt.xticks(rotation='vertical')\n",
    "#plt.ylim(1,10)\n",
    "plt.show()"
   ]
  },
  {
   "cell_type": "markdown",
   "id": "56d65cb4",
   "metadata": {},
   "source": [
    "The best grades are in art and english."
   ]
  },
  {
   "cell_type": "code",
   "execution_count": 29,
   "id": "f07faefa",
   "metadata": {
    "scrolled": true
   },
   "outputs": [
    {
     "data": {
      "image/png": "[encoded data removed]",
      "text/plain": [
       "<Figure size 360x360 with 1 Axes>"
      ]
     },
     "metadata": {
      "needs_background": "light"
     },
     "output_type": "display_data"
    }
   ],
   "source": [
    "sns.displot(df.grade, bins=7 , label = notas, kde='True')\n",
    "plt.title('Distribution of school grades')\n",
    "    \n",
    "plt.show()"
   ]
  },
  {
   "cell_type": "markdown",
   "id": "0d2b3908",
   "metadata": {},
   "source": [
    "The most common grades are 7 and 10. "
   ]
  },
  {
   "cell_type": "code",
   "execution_count": 51,
   "id": "914dc06d",
   "metadata": {},
   "outputs": [],
   "source": [
    "# find out the average per student\n",
    "prom = pd.DataFrame(df.groupby('stID').agg({'grade':[np.mean]}))\n"
   ]
  },
  {
   "cell_type": "code",
   "execution_count": 53,
   "id": "25050e46",
   "metadata": {},
   "outputs": [
    {
     "data": {
      "image/png": "[encoded data removed]",
      "text/plain": [
       "<Figure size 504x360 with 1 Axes>"
      ]
     },
     "metadata": {},
     "output_type": "display_data"
    }
   ],
   "source": [
    "#plot the median values of ArrDelay, DepDelay and AirTime for each airline\n",
    "fig = prom.plot(kind='bar', figsize= (7,5), legend=False)\n",
    "fig.set_title('Average grade per student', fontsize=16, weight=\"bold\")\n",
    "fig.set_xlabel(\"Student ID\", fontsize=14, weight = \"bold\")\n",
    "fig.set_ylabel('Grade',  fontsize=14, weight=\"bold\")\n",
    "plt.show()"
   ]
  },
  {
   "cell_type": "markdown",
   "id": "c9e4a038",
   "metadata": {},
   "source": [
    "The student with studentID = 1 is the one with best grades."
   ]
  }
 ],
 "metadata": {
  "kernelspec": {
   "display_name": "Python 3",
   "language": "python",
   "name": "python3"
  },
  "language_info": {
   "codemirror_mode": {
    "name": "ipython",
    "version": 3
   },
   "file_extension": ".py",
   "mimetype": "text/x-python",
   "name": "python",
   "nbconvert_exporter": "python",
   "pygments_lexer": "ipython3",
   "version": "3.8.8"
  }
 },
 "nbformat": 4,
 "nbformat_minor": 5
}
